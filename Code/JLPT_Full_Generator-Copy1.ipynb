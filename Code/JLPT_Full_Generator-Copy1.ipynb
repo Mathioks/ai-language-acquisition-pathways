{
 "cells": [
  {
   "cell_type": "code",
   "execution_count": 18,
   "id": "6d7bb1d9",
   "metadata": {},
   "outputs": [
    {
     "name": "stdout",
     "output_type": "stream",
     "text": [
      "     Column1 JLPT_Level\n",
      "0         毎月         N5\n",
      "1         太い         N5\n",
      "2         五日         N5\n",
      "3         出る         N5\n",
      "4          話         N5\n",
      "...      ...        ...\n",
      "7394      作り         N1\n",
      "7395      調理         N1\n",
      "7396     聴診器         N1\n",
      "7397     誂える         N1\n",
      "7398     即する         N1\n",
      "\n",
      "[7399 rows x 2 columns]\n",
      "Aggregated data saved to JLPTFull.csv\n"
     ]
    }
   ],
   "source": [
    "# Data preparation\n",
    "import pandas as pd\n",
    "import numpy as np\n",
    "\n",
    "# Load data\n",
    "JLPTN5 = pd.read_csv(\"JLPT/JLPT_Wordlist_N5.csv\", encoding=\"shift_jis\")\n",
    "JLPTN4 = pd.read_csv(\"JLPT/JLPT_Wordlist_N4.csv\", encoding=\"shift_jis\")\n",
    "JLPTN3 = pd.read_csv(\"JLPT/JLPT_Wordlist_N3.csv\", encoding=\"shift_jis\")\n",
    "JLPTN2 = pd.read_csv(\"JLPT/JLPT_Wordlist_N2.csv\", encoding=\"shift_jis\")\n",
    "JLPTN1 = pd.read_csv(\"JLPT/JLPT_Wordlist_N1.csv\", encoding=\"shift_jis\")\n",
    "JLPTNG5 = pd.read_csv(\"JLPT/JLPT_Grammar_N5.csv\", encoding=\"shift_jis\")\n",
    "JLPTNG4 = pd.read_csv(\"JLPT/JLPT_Grammar_N4.csv\", encoding=\"shift_jis\")\n",
    "JLPTNG3 = pd.read_csv(\"JLPT/JLPT_Grammar_N3.csv\", encoding=\"shift_jis\")\n",
    "JLPTNG2 = pd.read_csv(\"JLPT/JLPT_Grammar_N2.csv\", encoding=\"shift_jis\")\n",
    "\n",
    "# Add a column indicating the JLPT level for each dataset\n",
    "JLPTN5['JLPT_Level'] = 'N5'\n",
    "JLPTN4['JLPT_Level'] = 'N4'\n",
    "JLPTN3['JLPT_Level'] = 'N3'\n",
    "JLPTN2['JLPT_Level'] = 'N2'\n",
    "JLPTN1['JLPT_Level'] = 'N1'\n",
    "JLPTNG5['JLPT_Level'] = 'N5'\n",
    "JLPTNG4['JLPT_Level'] = 'N4'\n",
    "JLPTNG3['JLPT_Level'] = 'N3'\n",
    "JLPTNG2['JLPT_Level'] = 'N2'\n",
    "\n",
    "# Merge JLPT lists\n",
    "JLPTFull = pd.concat([JLPTN5, JLPTNG5, JLPTN4, JLPTNG4, JLPTN3, JLPTNG3, JLPTN2, JLPTNG2, JLPTN1], ignore_index=True)\n",
    "\n",
    "print(JLPTFull)\n",
    "JLPTFull.to_csv(\"JLPTFull.csv\", index=False, encoding=\"utf-8-sig\")\n",
    "print(f\"Aggregated data saved to JLPTFull.csv\")\n"
   ]
  }
 ],
 "metadata": {
  "kernelspec": {
   "display_name": "Python 3 (ipykernel)",
   "language": "python",
   "name": "python3"
  },
  "language_info": {
   "codemirror_mode": {
    "name": "ipython",
    "version": 3
   },
   "file_extension": ".py",
   "mimetype": "text/x-python",
   "name": "python",
   "nbconvert_exporter": "python",
   "pygments_lexer": "ipython3",
   "version": "3.11.5"
  }
 },
 "nbformat": 4,
 "nbformat_minor": 5
}
